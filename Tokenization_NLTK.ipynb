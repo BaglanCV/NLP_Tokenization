{
 "cells": [
  {
   "cell_type": "markdown",
   "metadata": {
    "id": "uiL2nmB1WAQd"
   },
   "source": [
    "# <font color='#fd79a8'> Tokenization Methods Using NLTK<font/>"
   ]
  },
  {
   "cell_type": "code",
   "execution_count": 1,
   "metadata": {
    "id": "TKFaFq4vrvH4"
   },
   "outputs": [],
   "source": [
    "import nltk #importing nltk package "
   ]
  },
  {
   "cell_type": "code",
   "execution_count": 2,
   "metadata": {
    "colab": {
     "base_uri": "https://localhost:8080/"
    },
    "id": "698RpQucr79J",
    "outputId": "50cf5a91-ed00-4d73-9a44-941fd991f8e2"
   },
   "outputs": [
    {
     "name": "stderr",
     "output_type": "stream",
     "text": [
      "[nltk_data] Downloading package punkt to\n",
      "[nltk_data]     C:\\Users\\2020\\AppData\\Roaming\\nltk_data...\n",
      "[nltk_data]   Unzipping tokenizers\\punkt.zip.\n"
     ]
    },
    {
     "data": {
      "text/plain": [
       "True"
      ]
     },
     "execution_count": 2,
     "metadata": {},
     "output_type": "execute_result"
    }
   ],
   "source": [
    "from nltk.tokenize import word_tokenize \n",
    "nltk.download('punkt') #to unzip tokenizers"
   ]
  },
  {
   "cell_type": "markdown",
   "metadata": {
    "id": "VgVZGbhouyyK"
   },
   "source": [
    "<font color= #fd79a8 > NLTK Module **tokenize()** "
   ]
  },
  {
   "cell_type": "markdown",
   "metadata": {
    "id": "NImBGS2cvHgO"
   },
   "source": [
    "<font color= #fd79a8 > NLTK Module **word_tokenize()** method"
   ]
  },
  {
   "cell_type": "code",
   "execution_count": 3,
   "metadata": {
    "id": "C2_BTyTCsbHN"
   },
   "outputs": [],
   "source": [
    "sentence = \"I'm a self taught Data Scientist and I like it\""
   ]
  },
  {
   "cell_type": "code",
   "execution_count": 4,
   "metadata": {
    "colab": {
     "base_uri": "https://localhost:8080/"
    },
    "id": "js5ny_-UsgJ3",
    "outputId": "4b258ef0-e480-45e3-dbc0-62f708d0cf2b"
   },
   "outputs": [
    {
     "data": {
      "text/plain": [
       "['I',\n",
       " \"'m\",\n",
       " 'a',\n",
       " 'self',\n",
       " 'taught',\n",
       " 'Data',\n",
       " 'Scientist',\n",
       " 'and',\n",
       " 'I',\n",
       " 'like',\n",
       " 'it',\n",
       " ')',\n",
       " ')',\n",
       " ')']"
      ]
     },
     "execution_count": 4,
     "metadata": {},
     "output_type": "execute_result"
    }
   ],
   "source": [
    "word_tokenize(sentence)"
   ]
  },
  {
   "cell_type": "markdown",
   "metadata": {
    "id": "ZQlt1TFkEvjp"
   },
   "source": [
    "<font color= #fd79a8 > **sent_tokenization()** <font/> "
   ]
  },
  {
   "cell_type": "code",
   "execution_count": 8,
   "metadata": {
    "id": "CwlgelVzwvBg"
   },
   "outputs": [],
   "source": [
    "article = '''NLP is a subfield of linguistics, computer science, and artificial intelligence concerned with the interactions between computers and human language. The result is a computer capable of \"understanding\" the contents of documents. The technology can then accurately extract information and insights contained in the documents as well as categorize and organize the documents themselves.'''"
   ]
  },
  {
   "cell_type": "code",
   "execution_count": 6,
   "metadata": {
    "id": "oEJq6wS4s1L7"
   },
   "outputs": [],
   "source": [
    "from nltk.tokenize import sent_tokenize"
   ]
  },
  {
   "cell_type": "code",
   "execution_count": 9,
   "metadata": {
    "colab": {
     "base_uri": "https://localhost:8080/"
    },
    "id": "lLPPgGrvtCHU",
    "outputId": "975985c0-282d-4dd2-a182-ba5ce6f7e914"
   },
   "outputs": [
    {
     "data": {
      "text/plain": [
       "['NLP is a subfield of linguistics, computer science, and artificial intelligence concerned with the interactions between computers and human language.',\n",
       " 'The result is a computer capable of \"understanding\" the contents of documents.',\n",
       " 'The technology can then accurately extract information and insights contained in the documents as well as categorize and organize the documents themselves.']"
      ]
     },
     "execution_count": 9,
     "metadata": {},
     "output_type": "execute_result"
    }
   ],
   "source": [
    "sent_tokenize(article)"
   ]
  }
 ],
 "metadata": {
  "colab": {
   "name": "TokenizationNLTK_complete.ipynb",
   "provenance": []
  },
  "kernelspec": {
   "display_name": "Python 3",
   "language": "python",
   "name": "python3"
  },
  "language_info": {
   "codemirror_mode": {
    "name": "ipython",
    "version": 3
   },
   "file_extension": ".py",
   "mimetype": "text/x-python",
   "name": "python",
   "nbconvert_exporter": "python",
   "pygments_lexer": "ipython3",
   "version": "3.7.6"
  }
 },
 "nbformat": 4,
 "nbformat_minor": 1
}
